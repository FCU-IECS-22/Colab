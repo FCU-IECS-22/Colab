{
  "nbformat": 4,
  "nbformat_minor": 0,
  "metadata": {
    "colab": {
      "name": "Stock_Project.ipynb",
      "provenance": [],
      "authorship_tag": "ABX9TyOUDK/shmRziHhybv5wJG75",
      "include_colab_link": true
    },
    "kernelspec": {
      "name": "python3",
      "display_name": "Python 3"
    },
    "language_info": {
      "name": "python"
    }
  },
  "cells": [
    {
      "cell_type": "markdown",
      "metadata": {
        "id": "view-in-github",
        "colab_type": "text"
      },
      "source": [
        "<a href=\"https://colab.research.google.com/github/FCU-IECS-22/Colab/blob/main/Stock_Project.ipynb\" target=\"_parent\"><img src=\"https://colab.research.google.com/assets/colab-badge.svg\" alt=\"Open In Colab\"/></a>"
      ]
    },
    {
      "cell_type": "code",
      "metadata": {
        "id": "eorVaL7fYU1x"
      },
      "source": [
        "import numpy as np\n",
        "import pandas as pd\n",
        "import matplotlib.pyplot as plt\n",
        "from sklearn.preprocessing import MinMaxScaler\n",
        "\n",
        "from keras import Sequential\n",
        "from keras.layers import Dense\n",
        "from keras.layers import LSTM\n",
        "from keras.layers import Dropout"
      ],
      "execution_count": null,
      "outputs": []
    },
    {
      "cell_type": "code",
      "metadata": {
        "id": "6q5DWlkwrZrK"
      },
      "source": [
        "df = pd.read_csv('2303.csv')"
      ],
      "execution_count": null,
      "outputs": []
    },
    {
      "cell_type": "code",
      "metadata": {
        "colab": {
          "base_uri": "https://localhost:8080/",
          "height": 454
        },
        "id": "xJ-EQ7fyWY0F",
        "outputId": "89023484-d4ce-4170-d41b-420082108a5d"
      },
      "source": [
        "df"
      ],
      "execution_count": null,
      "outputs": [
        {
          "output_type": "execute_result",
          "data": {
            "text/html": [
              "<div>\n",
              "<style scoped>\n",
              "    .dataframe tbody tr th:only-of-type {\n",
              "        vertical-align: middle;\n",
              "    }\n",
              "\n",
              "    .dataframe tbody tr th {\n",
              "        vertical-align: top;\n",
              "    }\n",
              "\n",
              "    .dataframe thead th {\n",
              "        text-align: right;\n",
              "    }\n",
              "</style>\n",
              "<table border=\"1\" class=\"dataframe\">\n",
              "  <thead>\n",
              "    <tr style=\"text-align: right;\">\n",
              "      <th></th>\n",
              "      <th>Date</th>\n",
              "      <th>Trade Volume</th>\n",
              "      <th>Trade Value</th>\n",
              "      <th>Opening Price</th>\n",
              "      <th>Highest Price</th>\n",
              "      <th>Lowest Price</th>\n",
              "      <th>Closing Price</th>\n",
              "      <th>Change</th>\n",
              "      <th>Transaction</th>\n",
              "    </tr>\n",
              "  </thead>\n",
              "  <tbody>\n",
              "    <tr>\n",
              "      <th>0</th>\n",
              "      <td>100104</td>\n",
              "      <td>30268635</td>\n",
              "      <td>515087575</td>\n",
              "      <td>17.2</td>\n",
              "      <td>17.20</td>\n",
              "      <td>16.80</td>\n",
              "      <td>17.0</td>\n",
              "      <td>-0.2</td>\n",
              "      <td>5747</td>\n",
              "    </tr>\n",
              "    <tr>\n",
              "      <th>1</th>\n",
              "      <td>100105</td>\n",
              "      <td>65133854</td>\n",
              "      <td>1119637425</td>\n",
              "      <td>17.2</td>\n",
              "      <td>17.35</td>\n",
              "      <td>17.05</td>\n",
              "      <td>17.2</td>\n",
              "      <td>0.2</td>\n",
              "      <td>10198</td>\n",
              "    </tr>\n",
              "    <tr>\n",
              "      <th>2</th>\n",
              "      <td>100106</td>\n",
              "      <td>145046936</td>\n",
              "      <td>2591783318</td>\n",
              "      <td>17.2</td>\n",
              "      <td>18.40</td>\n",
              "      <td>17.15</td>\n",
              "      <td>18.4</td>\n",
              "      <td>1.2</td>\n",
              "      <td>24535</td>\n",
              "    </tr>\n",
              "    <tr>\n",
              "      <th>3</th>\n",
              "      <td>100107</td>\n",
              "      <td>137964451</td>\n",
              "      <td>2586911933</td>\n",
              "      <td>18.6</td>\n",
              "      <td>19.10</td>\n",
              "      <td>18.40</td>\n",
              "      <td>18.4</td>\n",
              "      <td>0.0</td>\n",
              "      <td>24566</td>\n",
              "    </tr>\n",
              "    <tr>\n",
              "      <th>4</th>\n",
              "      <td>100108</td>\n",
              "      <td>58947013</td>\n",
              "      <td>1068332609</td>\n",
              "      <td>18.4</td>\n",
              "      <td>18.45</td>\n",
              "      <td>17.85</td>\n",
              "      <td>18.2</td>\n",
              "      <td>-0.2</td>\n",
              "      <td>11053</td>\n",
              "    </tr>\n",
              "    <tr>\n",
              "      <th>...</th>\n",
              "      <td>...</td>\n",
              "      <td>...</td>\n",
              "      <td>...</td>\n",
              "      <td>...</td>\n",
              "      <td>...</td>\n",
              "      <td>...</td>\n",
              "      <td>...</td>\n",
              "      <td>...</td>\n",
              "      <td>...</td>\n",
              "    </tr>\n",
              "    <tr>\n",
              "      <th>2843</th>\n",
              "      <td>210726</td>\n",
              "      <td>137792338</td>\n",
              "      <td>7429437189</td>\n",
              "      <td>54.0</td>\n",
              "      <td>54.40</td>\n",
              "      <td>53.60</td>\n",
              "      <td>53.7</td>\n",
              "      <td>1.0</td>\n",
              "      <td>42572</td>\n",
              "    </tr>\n",
              "    <tr>\n",
              "      <th>2844</th>\n",
              "      <td>210727</td>\n",
              "      <td>118561484</td>\n",
              "      <td>6355294561</td>\n",
              "      <td>54.2</td>\n",
              "      <td>54.30</td>\n",
              "      <td>53.10</td>\n",
              "      <td>53.1</td>\n",
              "      <td>-0.6</td>\n",
              "      <td>35962</td>\n",
              "    </tr>\n",
              "    <tr>\n",
              "      <th>2845</th>\n",
              "      <td>210728</td>\n",
              "      <td>199999316</td>\n",
              "      <td>10261061610</td>\n",
              "      <td>52.4</td>\n",
              "      <td>52.60</td>\n",
              "      <td>50.50</td>\n",
              "      <td>51.8</td>\n",
              "      <td>-1.3</td>\n",
              "      <td>68871</td>\n",
              "    </tr>\n",
              "    <tr>\n",
              "      <th>2846</th>\n",
              "      <td>210729</td>\n",
              "      <td>437075578</td>\n",
              "      <td>23760926840</td>\n",
              "      <td>53.9</td>\n",
              "      <td>55.00</td>\n",
              "      <td>53.30</td>\n",
              "      <td>54.6</td>\n",
              "      <td>2.8</td>\n",
              "      <td>132593</td>\n",
              "    </tr>\n",
              "    <tr>\n",
              "      <th>2847</th>\n",
              "      <td>210730</td>\n",
              "      <td>690359467</td>\n",
              "      <td>39827899349</td>\n",
              "      <td>55.8</td>\n",
              "      <td>59.90</td>\n",
              "      <td>55.80</td>\n",
              "      <td>57.8</td>\n",
              "      <td>3.2</td>\n",
              "      <td>241096</td>\n",
              "    </tr>\n",
              "  </tbody>\n",
              "</table>\n",
              "<p>2848 rows × 9 columns</p>\n",
              "</div>"
            ],
            "text/plain": [
              "        Date  Trade Volume  Trade Value  ...  Closing Price  Change  Transaction\n",
              "0     100104      30268635    515087575  ...           17.0    -0.2         5747\n",
              "1     100105      65133854   1119637425  ...           17.2     0.2        10198\n",
              "2     100106     145046936   2591783318  ...           18.4     1.2        24535\n",
              "3     100107     137964451   2586911933  ...           18.4     0.0        24566\n",
              "4     100108      58947013   1068332609  ...           18.2    -0.2        11053\n",
              "...      ...           ...          ...  ...            ...     ...          ...\n",
              "2843  210726     137792338   7429437189  ...           53.7     1.0        42572\n",
              "2844  210727     118561484   6355294561  ...           53.1    -0.6        35962\n",
              "2845  210728     199999316  10261061610  ...           51.8    -1.3        68871\n",
              "2846  210729     437075578  23760926840  ...           54.6     2.8       132593\n",
              "2847  210730     690359467  39827899349  ...           57.8     3.2       241096\n",
              "\n",
              "[2848 rows x 9 columns]"
            ]
          },
          "metadata": {
            "tags": []
          },
          "execution_count": 5
        }
      ]
    },
    {
      "cell_type": "code",
      "metadata": {
        "id": "1nw3L-cGmAuV"
      },
      "source": [
        "df = df[2460:2705] #2020-01~12月底"
      ],
      "execution_count": null,
      "outputs": []
    },
    {
      "cell_type": "code",
      "metadata": {
        "id": "yFwFOEZe7P51"
      },
      "source": [
        "#將資料型態轉為float(number)\n",
        "df['Closing Price'] = pd.to_numeric(df['Closing Price'], errors='coerce')\n",
        "df['Highest Price'] = pd.to_numeric(df['Highest Price'], errors='coerce')\n",
        "df['Lowest Price'] = pd.to_numeric(df['Lowest Price'], errors='coerce')\n",
        "df['Opening Price'] = pd.to_numeric(df['Opening Price'], errors='coerce')"
      ],
      "execution_count": null,
      "outputs": []
    },
    {
      "cell_type": "code",
      "metadata": {
        "colab": {
          "base_uri": "https://localhost:8080/"
        },
        "id": "i1fClIFMmLX3",
        "outputId": "adbb883f-c492-415b-c590-542a2ef37373"
      },
      "source": [
        "#2020年\n",
        "df_close = df.iloc[:,6:7] #要預測的資料為收盤價\n",
        "train_set = df_close[:200].values #前200筆用作訓練\n",
        "test_set = df_close[200:].values #200筆以後用作測試\n",
        "print(\"Train size: \",train_set.shape)\n",
        "print(\"Test size:\",test_set.shape)"
      ],
      "execution_count": null,
      "outputs": [
        {
          "output_type": "stream",
          "text": [
            "Train size:  (200, 1)\n",
            "Test size: (45, 1)\n"
          ],
          "name": "stdout"
        }
      ]
    },
    {
      "cell_type": "code",
      "metadata": {
        "colab": {
          "base_uri": "https://localhost:8080/"
        },
        "id": "RmZF8vVRWY7c",
        "outputId": "74aa1e56-7d01-463a-d5f1-8d36148a0a45"
      },
      "source": [
        "#近10年\n",
        "df_close = df.iloc[:,6:7]\n",
        "train_set = df_close[:2200].values\n",
        "test_set = df_close[2200:].values\n",
        "print(\"Train size: \",train_set.shape)\n",
        "print(\"Test size:\",test_set.shape)"
      ],
      "execution_count": null,
      "outputs": [
        {
          "output_type": "stream",
          "text": [
            "Train size:  (2200, 1)\n",
            "Test size: (648, 1)\n"
          ],
          "name": "stdout"
        }
      ]
    },
    {
      "cell_type": "code",
      "metadata": {
        "colab": {
          "base_uri": "https://localhost:8080/",
          "height": 417
        },
        "id": "XlQtNCbfirI9",
        "outputId": "5ec0d1d2-68f1-4d44-9269-b4175a812282"
      },
      "source": [
        "df_close"
      ],
      "execution_count": null,
      "outputs": [
        {
          "output_type": "execute_result",
          "data": {
            "text/html": [
              "<div>\n",
              "<style scoped>\n",
              "    .dataframe tbody tr th:only-of-type {\n",
              "        vertical-align: middle;\n",
              "    }\n",
              "\n",
              "    .dataframe tbody tr th {\n",
              "        vertical-align: top;\n",
              "    }\n",
              "\n",
              "    .dataframe thead th {\n",
              "        text-align: right;\n",
              "    }\n",
              "</style>\n",
              "<table border=\"1\" class=\"dataframe\">\n",
              "  <thead>\n",
              "    <tr style=\"text-align: right;\">\n",
              "      <th></th>\n",
              "      <th>Closing Price</th>\n",
              "    </tr>\n",
              "  </thead>\n",
              "  <tbody>\n",
              "    <tr>\n",
              "      <th>2460</th>\n",
              "      <td>16.65</td>\n",
              "    </tr>\n",
              "    <tr>\n",
              "      <th>2461</th>\n",
              "      <td>16.55</td>\n",
              "    </tr>\n",
              "    <tr>\n",
              "      <th>2462</th>\n",
              "      <td>16.70</td>\n",
              "    </tr>\n",
              "    <tr>\n",
              "      <th>2463</th>\n",
              "      <td>16.55</td>\n",
              "    </tr>\n",
              "    <tr>\n",
              "      <th>2464</th>\n",
              "      <td>16.45</td>\n",
              "    </tr>\n",
              "    <tr>\n",
              "      <th>...</th>\n",
              "      <td>...</td>\n",
              "    </tr>\n",
              "    <tr>\n",
              "      <th>2700</th>\n",
              "      <td>45.85</td>\n",
              "    </tr>\n",
              "    <tr>\n",
              "      <th>2701</th>\n",
              "      <td>47.45</td>\n",
              "    </tr>\n",
              "    <tr>\n",
              "      <th>2702</th>\n",
              "      <td>45.70</td>\n",
              "    </tr>\n",
              "    <tr>\n",
              "      <th>2703</th>\n",
              "      <td>46.10</td>\n",
              "    </tr>\n",
              "    <tr>\n",
              "      <th>2704</th>\n",
              "      <td>46.55</td>\n",
              "    </tr>\n",
              "  </tbody>\n",
              "</table>\n",
              "<p>245 rows × 1 columns</p>\n",
              "</div>"
            ],
            "text/plain": [
              "      Closing Price\n",
              "2460          16.65\n",
              "2461          16.55\n",
              "2462          16.70\n",
              "2463          16.55\n",
              "2464          16.45\n",
              "...             ...\n",
              "2700          45.85\n",
              "2701          47.45\n",
              "2702          45.70\n",
              "2703          46.10\n",
              "2704          46.55\n",
              "\n",
              "[245 rows x 1 columns]"
            ]
          },
          "metadata": {
            "tags": []
          },
          "execution_count": 14
        }
      ]
    },
    {
      "cell_type": "code",
      "metadata": {
        "id": "ML98qnCuu0FI"
      },
      "source": [
        "df_date = pd.to_datetime(df['Date'], format='%y%m%d') #將 Date 轉為 pd 的 datetime 格式"
      ],
      "execution_count": null,
      "outputs": []
    },
    {
      "cell_type": "code",
      "metadata": {
        "colab": {
          "base_uri": "https://localhost:8080/"
        },
        "id": "yvRv3ah9mask",
        "outputId": "23b046f8-1cff-4186-c5f0-ffa8e67bfb26"
      },
      "source": [
        "df_date"
      ],
      "execution_count": null,
      "outputs": [
        {
          "output_type": "execute_result",
          "data": {
            "text/plain": [
              "2460   2019-12-25\n",
              "2461   2019-12-26\n",
              "2462   2019-12-27\n",
              "2463   2019-12-30\n",
              "2464   2019-12-31\n",
              "          ...    \n",
              "2700   2020-12-18\n",
              "2701   2020-12-21\n",
              "2702   2020-12-22\n",
              "2703   2020-12-23\n",
              "2704   2020-12-24\n",
              "Name: Date, Length: 245, dtype: datetime64[ns]"
            ]
          },
          "metadata": {
            "tags": []
          },
          "execution_count": 16
        }
      ]
    },
    {
      "cell_type": "code",
      "metadata": {
        "colab": {
          "base_uri": "https://localhost:8080/"
        },
        "id": "PfogcNzrziQl",
        "outputId": "8cff88f8-d5b8-4678-9e40-f8de35c7d7f1"
      },
      "source": [
        "df.dtypes"
      ],
      "execution_count": null,
      "outputs": [
        {
          "output_type": "execute_result",
          "data": {
            "text/plain": [
              "Date               int64\n",
              "Trade Volume       int64\n",
              "Trade Value        int64\n",
              "Opening Price    float64\n",
              "Highest Price    float64\n",
              "Lowest Price     float64\n",
              "Closing Price    float64\n",
              "Change           float64\n",
              "Transaction        int64\n",
              "dtype: object"
            ]
          },
          "metadata": {
            "tags": []
          },
          "execution_count": 17
        }
      ]
    },
    {
      "cell_type": "code",
      "metadata": {
        "colab": {
          "base_uri": "https://localhost:8080/",
          "height": 282
        },
        "id": "fSvh_IiGirMJ",
        "outputId": "97c231ba-7eaf-48e8-b084-56c251aeba8b"
      },
      "source": [
        "#繪圖(收盤價)\n",
        "plt.plot_date(df_date, df_close,fmt='-')"
      ],
      "execution_count": null,
      "outputs": [
        {
          "output_type": "execute_result",
          "data": {
            "text/plain": [
              "[<matplotlib.lines.Line2D at 0x7f08ebb85710>]"
            ]
          },
          "metadata": {
            "tags": []
          },
          "execution_count": 18
        },
        {
          "output_type": "display_data",
          "data": {
            "image/png": "[encoded data removed]",
            "text/plain": [
              "<Figure size 432x288 with 1 Axes>"
            ]
          },
          "metadata": {
            "tags": [],
            "needs_background": "light"
          }
        }
      ]
    },
    {
      "cell_type": "code",
      "metadata": {
        "id": "RAHr_ekeirhl"
      },
      "source": [
        "model = MinMaxScaler()\n",
        "train_set_scaled = model.fit_transform(train_set)"
      ],
      "execution_count": null,
      "outputs": []
    },
    {
      "cell_type": "code",
      "metadata": {
        "colab": {
          "base_uri": "https://localhost:8080/"
        },
        "id": "koq3UJIVG03R",
        "outputId": "ade9d2de-1b7b-4d64-bf18-88ac1b9caba1"
      },
      "source": [
        "train_set_scaled"
      ],
      "execution_count": null,
      "outputs": [
        {
          "output_type": "execute_result",
          "data": {
            "text/plain": [
              "array([[0.15503876],\n",
              "       [0.1498708 ],\n",
              "       [0.15762274],\n",
              "       [0.1498708 ],\n",
              "       [0.14470284],\n",
              "       [0.1498708 ],\n",
              "       [0.1369509 ],\n",
              "       [0.12403101],\n",
              "       [0.12144703],\n",
              "       [0.10852713],\n",
              "       [0.12403101],\n",
              "       [0.12919897],\n",
              "       [0.12403101],\n",
              "       [0.13436693],\n",
              "       [0.12919897],\n",
              "       [0.12919897],\n",
              "       [0.12144703],\n",
              "       [0.12403101],\n",
              "       [0.0749354 ],\n",
              "       [0.06459948],\n",
              "       [0.06976744],\n",
              "       [0.08010336],\n",
              "       [0.09560724],\n",
              "       [0.13436693],\n",
              "       [0.13953488],\n",
              "       [0.14211886],\n",
              "       [0.15762274],\n",
              "       [0.16795866],\n",
              "       [0.16537468],\n",
              "       [0.14728682],\n",
              "       [0.14211886],\n",
              "       [0.12919897],\n",
              "       [0.12661499],\n",
              "       [0.1369509 ],\n",
              "       [0.12403101],\n",
              "       [0.11111111],\n",
              "       [0.11627907],\n",
              "       [0.10077519],\n",
              "       [0.08527132],\n",
              "       [0.08268734],\n",
              "       [0.09560724],\n",
              "       [0.11111111],\n",
              "       [0.10594315],\n",
              "       [0.09302326],\n",
              "       [0.07235142],\n",
              "       [0.06718346],\n",
              "       [0.05943152],\n",
              "       [0.03617571],\n",
              "       [0.02067183],\n",
              "       [0.0129199 ],\n",
              "       [0.00516796],\n",
              "       [0.00775194],\n",
              "       [0.00258398],\n",
              "       [0.01033592],\n",
              "       [0.00516796],\n",
              "       [0.01033592],\n",
              "       [0.02325581],\n",
              "       [0.02325581],\n",
              "       [0.01808786],\n",
              "       [0.01550388],\n",
              "       [0.        ],\n",
              "       [0.00775194],\n",
              "       [0.02325581],\n",
              "       [0.02583979],\n",
              "       [0.02842377],\n",
              "       [0.02842377],\n",
              "       [0.03359173],\n",
              "       [0.05943152],\n",
              "       [0.07751938],\n",
              "       [0.0749354 ],\n",
              "       [0.06459948],\n",
              "       [0.07235142],\n",
              "       [0.07751938],\n",
              "       [0.05943152],\n",
              "       [0.08010336],\n",
              "       [0.11111111],\n",
              "       [0.11627907],\n",
              "       [0.12919897],\n",
              "       [0.06976744],\n",
              "       [0.08527132],\n",
              "       [0.09819121],\n",
              "       [0.0878553 ],\n",
              "       [0.08268734],\n",
              "       [0.08527132],\n",
              "       [0.10077519],\n",
              "       [0.10335917],\n",
              "       [0.10077519],\n",
              "       [0.09302326],\n",
              "       [0.10077519],\n",
              "       [0.0878553 ],\n",
              "       [0.09043928],\n",
              "       [0.0749354 ],\n",
              "       [0.06718346],\n",
              "       [0.0620155 ],\n",
              "       [0.08527132],\n",
              "       [0.0749354 ],\n",
              "       [0.0749354 ],\n",
              "       [0.08010336],\n",
              "       [0.0749354 ],\n",
              "       [0.0878553 ],\n",
              "       [0.09302326],\n",
              "       [0.10335917],\n",
              "       [0.11369509],\n",
              "       [0.13178295],\n",
              "       [0.1369509 ],\n",
              "       [0.14728682],\n",
              "       [0.17571059],\n",
              "       [0.16537468],\n",
              "       [0.15245478],\n",
              "       [0.12403101],\n",
              "       [0.10594315],\n",
              "       [0.09043928],\n",
              "       [0.09560724],\n",
              "       [0.08527132],\n",
              "       [0.0878553 ],\n",
              "       [0.09043928],\n",
              "       [0.10594315],\n",
              "       [0.09302326],\n",
              "       [0.10852713],\n",
              "       [0.09819121],\n",
              "       [0.11627907],\n",
              "       [0.12661499],\n",
              "       [0.13953488],\n",
              "       [0.14470284],\n",
              "       [0.15503876],\n",
              "       [0.15245478],\n",
              "       [0.15503876],\n",
              "       [0.14470284],\n",
              "       [0.14470284],\n",
              "       [0.17571059],\n",
              "       [0.1627907 ],\n",
              "       [0.12144703],\n",
              "       [0.15245478],\n",
              "       [0.14211886],\n",
              "       [0.1498708 ],\n",
              "       [0.18087855],\n",
              "       [0.19896641],\n",
              "       [0.28940568],\n",
              "       [0.31524548],\n",
              "       [0.41602067],\n",
              "       [0.44444444],\n",
              "       [0.45219638],\n",
              "       [0.44186047],\n",
              "       [0.4496124 ],\n",
              "       [0.5245478 ],\n",
              "       [0.56330749],\n",
              "       [0.58139535],\n",
              "       [0.66925065],\n",
              "       [0.61757106],\n",
              "       [0.60206718],\n",
              "       [0.58656331],\n",
              "       [0.53229974],\n",
              "       [0.52196382],\n",
              "       [0.51162791],\n",
              "       [0.54263566],\n",
              "       [0.54005168],\n",
              "       [0.50387597],\n",
              "       [0.42118863],\n",
              "       [0.42118863],\n",
              "       [0.4625323 ],\n",
              "       [0.43927649],\n",
              "       [0.4496124 ],\n",
              "       [0.42894057],\n",
              "       [0.42635659],\n",
              "       [0.39018088],\n",
              "       [0.42635659],\n",
              "       [0.41602067],\n",
              "       [0.40826873],\n",
              "       [0.40310078],\n",
              "       [0.51162791],\n",
              "       [0.46770026],\n",
              "       [0.51937984],\n",
              "       [0.50129199],\n",
              "       [0.48320413],\n",
              "       [0.52971576],\n",
              "       [0.60206718],\n",
              "       [0.62273902],\n",
              "       [0.625323  ],\n",
              "       [0.62790698],\n",
              "       [0.59431525],\n",
              "       [0.59173127],\n",
              "       [0.63824289],\n",
              "       [0.63565891],\n",
              "       [0.58656331],\n",
              "       [0.71576227],\n",
              "       [0.71576227],\n",
              "       [0.77002584],\n",
              "       [0.77777778],\n",
              "       [0.75968992],\n",
              "       [0.81912145],\n",
              "       [0.95865633],\n",
              "       [0.95090439],\n",
              "       [0.9250646 ],\n",
              "       [0.95865633],\n",
              "       [0.9250646 ],\n",
              "       [0.87855297],\n",
              "       [0.89664083],\n",
              "       [0.90697674],\n",
              "       [0.91472868],\n",
              "       [1.        ]])"
            ]
          },
          "metadata": {
            "tags": []
          },
          "execution_count": 20
        }
      ]
    },
    {
      "cell_type": "code",
      "metadata": {
        "colab": {
          "base_uri": "https://localhost:8080/"
        },
        "id": "7AE-KbPYj8GP",
        "outputId": "8c9f1d99-2288-42f7-c244-cb4ed6b7429d"
      },
      "source": [
        "len(train_set_scaled)"
      ],
      "execution_count": null,
      "outputs": [
        {
          "output_type": "execute_result",
          "data": {
            "text/plain": [
              "200"
            ]
          },
          "metadata": {
            "tags": []
          },
          "execution_count": 21
        }
      ]
    },
    {
      "cell_type": "code",
      "metadata": {
        "id": "vO_GB_xoG06J"
      },
      "source": [
        "x_train = []\n",
        "y_train = []\n",
        "for i in range(60,200): #以前60筆資料預測下一筆\n",
        "    x_train.append(train_set_scaled[i-60:i,0])\n",
        "    y_train.append(train_set_scaled[i,0])\n",
        "x_train = np.array(x_train)\n",
        "y_train = np.array(y_train)\n",
        "# 轉換成模型要求的維度\n",
        "x_train = np.reshape(x_train,(x_train.shape[0],x_train.shape[1],1))"
      ],
      "execution_count": null,
      "outputs": []
    },
    {
      "cell_type": "code",
      "metadata": {
        "id": "SIG6TTrtG09A"
      },
      "source": [
        "# LSTM訓練\n",
        "reg = Sequential()\n",
        "reg.add(LSTM(units = 50,return_sequences=True,input_shape=(x_train.shape[1],1)))\n",
        "reg.add(Dropout(0.2))\n",
        "reg.add(LSTM(units = 50,return_sequences=True))\n",
        "reg.add(Dropout(0.2))\n",
        "reg.add(LSTM(units = 50,return_sequences=True))\n",
        "reg.add(Dropout(0.2))\n",
        "reg.add(LSTM(units = 50))\n",
        "reg.add(Dropout(0.2))\n",
        "reg.add(Dense(units = 1))\n",
        "reg.compile(optimizer = 'adam',loss='mean_squared_error')"
      ],
      "execution_count": null,
      "outputs": []
    },
    {
      "cell_type": "code",
      "metadata": {
        "colab": {
          "base_uri": "https://localhost:8080/"
        },
        "id": "C-UosevcG1AR",
        "outputId": "a458600a-5348-4a8e-e00f-0aee02b72927"
      },
      "source": [
        "reg.summary()"
      ],
      "execution_count": null,
      "outputs": [
        {
          "output_type": "stream",
          "text": [
            "Model: \"sequential\"\n",
            "_________________________________________________________________\n",
            "Layer (type)                 Output Shape              Param #   \n",
            "=================================================================\n",
            "lstm (LSTM)                  (None, 60, 50)            10400     \n",
            "_________________________________________________________________\n",
            "dropout (Dropout)            (None, 60, 50)            0         \n",
            "_________________________________________________________________\n",
            "lstm_1 (LSTM)                (None, 60, 50)            20200     \n",
            "_________________________________________________________________\n",
            "dropout_1 (Dropout)          (None, 60, 50)            0         \n",
            "_________________________________________________________________\n",
            "lstm_2 (LSTM)                (None, 60, 50)            20200     \n",
            "_________________________________________________________________\n",
            "dropout_2 (Dropout)          (None, 60, 50)            0         \n",
            "_________________________________________________________________\n",
            "lstm_3 (LSTM)                (None, 50)                20200     \n",
            "_________________________________________________________________\n",
            "dropout_3 (Dropout)          (None, 50)                0         \n",
            "_________________________________________________________________\n",
            "dense (Dense)                (None, 1)                 51        \n",
            "=================================================================\n",
            "Total params: 71,051\n",
            "Trainable params: 71,051\n",
            "Non-trainable params: 0\n",
            "_________________________________________________________________\n"
          ],
          "name": "stdout"
        }
      ]
    },
    {
      "cell_type": "code",
      "metadata": {
        "colab": {
          "base_uri": "https://localhost:8080/"
        },
        "id": "clMv-o6VG7Bh",
        "outputId": "ea63608b-2051-4462-b385-e394c402d7db"
      },
      "source": [
        "reg.fit(x_train,y_train, epochs=20, batch_size =1,verbose=2)"
      ],
      "execution_count": null,
      "outputs": [
        {
          "output_type": "stream",
          "text": [
            "Epoch 1/20\n",
            "140/140 - 28s - loss: 0.0280\n",
            "Epoch 2/20\n",
            "140/140 - 6s - loss: 0.0178\n",
            "Epoch 3/20\n",
            "140/140 - 6s - loss: 0.0231\n",
            "Epoch 4/20\n",
            "140/140 - 6s - loss: 0.0178\n",
            "Epoch 5/20\n",
            "140/140 - 6s - loss: 0.0111\n",
            "Epoch 6/20\n",
            "140/140 - 6s - loss: 0.0098\n",
            "Epoch 7/20\n",
            "140/140 - 6s - loss: 0.0088\n",
            "Epoch 8/20\n",
            "140/140 - 6s - loss: 0.0083\n",
            "Epoch 9/20\n",
            "140/140 - 6s - loss: 0.0125\n",
            "Epoch 10/20\n",
            "140/140 - 6s - loss: 0.0080\n",
            "Epoch 11/20\n",
            "140/140 - 6s - loss: 0.0068\n",
            "Epoch 12/20\n",
            "140/140 - 6s - loss: 0.0077\n",
            "Epoch 13/20\n",
            "140/140 - 6s - loss: 0.0052\n",
            "Epoch 14/20\n",
            "140/140 - 6s - loss: 0.0079\n",
            "Epoch 15/20\n",
            "140/140 - 6s - loss: 0.0091\n",
            "Epoch 16/20\n",
            "140/140 - 6s - loss: 0.0054\n",
            "Epoch 17/20\n",
            "140/140 - 6s - loss: 0.0043\n",
            "Epoch 18/20\n",
            "140/140 - 6s - loss: 0.0060\n",
            "Epoch 19/20\n",
            "140/140 - 6s - loss: 0.0059\n",
            "Epoch 20/20\n",
            "140/140 - 6s - loss: 0.0062\n"
          ],
          "name": "stdout"
        },
        {
          "output_type": "execute_result",
          "data": {
            "text/plain": [
              "<keras.callbacks.History at 0x7f08e83a5810>"
            ]
          },
          "metadata": {
            "tags": []
          },
          "execution_count": 26
        }
      ]
    },
    {
      "cell_type": "code",
      "metadata": {
        "colab": {
          "base_uri": "https://localhost:8080/"
        },
        "id": "stw1eHanRD2n",
        "outputId": "ca7a3fd5-27d5-485f-f28e-3c1ee041e441"
      },
      "source": [
        "len(df_close)"
      ],
      "execution_count": null,
      "outputs": [
        {
          "output_type": "execute_result",
          "data": {
            "text/plain": [
              "245"
            ]
          },
          "metadata": {
            "tags": []
          },
          "execution_count": 27
        }
      ]
    },
    {
      "cell_type": "code",
      "metadata": {
        "colab": {
          "base_uri": "https://localhost:8080/"
        },
        "id": "gHjzmV8HRJL4",
        "outputId": "fe841708-7a5c-4a83-f86c-d9f919187779"
      },
      "source": [
        "len(test_set)"
      ],
      "execution_count": null,
      "outputs": [
        {
          "output_type": "execute_result",
          "data": {
            "text/plain": [
              "45"
            ]
          },
          "metadata": {
            "tags": []
          },
          "execution_count": 28
        }
      ]
    },
    {
      "cell_type": "code",
      "metadata": {
        "id": "Ead_TIg_G7EP"
      },
      "source": [
        "input = df_close[len(df_close)-len(test_set)-60:].values\n",
        "input = model.transform(input)"
      ],
      "execution_count": null,
      "outputs": []
    },
    {
      "cell_type": "code",
      "metadata": {
        "colab": {
          "base_uri": "https://localhost:8080/"
        },
        "id": "wxtE9V6eRVM3",
        "outputId": "131bec34-b0d2-4834-a943-a7177b45175c"
      },
      "source": [
        "len(input)"
      ],
      "execution_count": null,
      "outputs": [
        {
          "output_type": "execute_result",
          "data": {
            "text/plain": [
              "105"
            ]
          },
          "metadata": {
            "tags": []
          },
          "execution_count": 30
        }
      ]
    },
    {
      "cell_type": "code",
      "metadata": {
        "colab": {
          "base_uri": "https://localhost:8080/"
        },
        "id": "lHgzCibYG9v0",
        "outputId": "9a1518b2-90ec-48f3-8edd-c06675b21f41"
      },
      "source": [
        "x_test = []\n",
        "for i in range(60,105):\n",
        "    x_test.append(input[i-60:i,0])\n",
        "x_test = np.array(x_test)\n",
        "x_test = np.reshape(x_test,(x_test.shape[0],x_test.shape[1],1))\n",
        "x_test.shape"
      ],
      "execution_count": null,
      "outputs": [
        {
          "output_type": "execute_result",
          "data": {
            "text/plain": [
              "(45, 60, 1)"
            ]
          },
          "metadata": {
            "tags": []
          },
          "execution_count": 31
        }
      ]
    },
    {
      "cell_type": "code",
      "metadata": {
        "colab": {
          "base_uri": "https://localhost:8080/"
        },
        "id": "gIGFiC5uolz6",
        "outputId": "8f3b6c9a-5d7d-4be8-8f3b-344c117e2197"
      },
      "source": [
        "len(x_test)"
      ],
      "execution_count": null,
      "outputs": [
        {
          "output_type": "execute_result",
          "data": {
            "text/plain": [
              "45"
            ]
          },
          "metadata": {
            "tags": []
          },
          "execution_count": 35
        }
      ]
    },
    {
      "cell_type": "code",
      "metadata": {
        "colab": {
          "base_uri": "https://localhost:8080/",
          "height": 282
        },
        "id": "OZDXtiSDG9yV",
        "outputId": "efd0ce3c-aa33-437a-9b27-aab430ed8a70"
      },
      "source": [
        "pred = reg.predict(x_test)\n",
        "pred = model.inverse_transform(pred)\n",
        "df.loc[2660:2705, 'pred'] = pred\n",
        "df['pred'][200:].plot(color=\"red\",label='predictd Data')\n",
        "df['Closing Price'][200:].plot(color=\"green\",label='Real Data')\n",
        "plt.legend(loc='best')"
      ],
      "execution_count": null,
      "outputs": [
        {
          "output_type": "execute_result",
          "data": {
            "text/plain": [
              "<matplotlib.legend.Legend at 0x7f08e6f2bf90>"
            ]
          },
          "metadata": {
            "tags": []
          },
          "execution_count": 33
        },
        {
          "output_type": "display_data",
          "data": {
            "image/png": "[encoded data removed]",
            "text/plain": [
              "<Figure size 432x288 with 1 Axes>"
            ]
          },
          "metadata": {
            "tags": [],
            "needs_background": "light"
          }
        }
      ]
    },
    {
      "cell_type": "code",
      "metadata": {
        "colab": {
          "base_uri": "https://localhost:8080/"
        },
        "id": "KPp6-Y7IRtE4",
        "outputId": "61b3ab9a-8d5b-41f9-fb74-f9ae559cac9c"
      },
      "source": [
        "df.loc[2660:2705, 'pred']"
      ],
      "execution_count": null,
      "outputs": [
        {
          "output_type": "execute_result",
          "data": {
            "text/plain": [
              "2660    29.619913\n",
              "2661    30.011955\n",
              "2662    30.508249\n",
              "2663    31.001888\n",
              "2664    31.298815\n",
              "2665    31.398306\n",
              "2666    31.123108\n",
              "2667    30.474436\n",
              "2668    29.682137\n",
              "2669    29.169121\n",
              "2670    28.967903\n",
              "2671    28.992821\n",
              "2672    29.270460\n",
              "2673    29.616484\n",
              "2674    29.893341\n",
              "2675    30.059097\n",
              "2676    30.145864\n",
              "2677    30.281805\n",
              "2678    30.473757\n",
              "2679    30.691736\n",
              "2680    30.853643\n",
              "2681    31.028776\n",
              "2682    31.588671\n",
              "2683    32.661785\n",
              "2684    33.929619\n",
              "2685    35.088997\n",
              "2686    35.844219\n",
              "2687    36.294670\n",
              "2688    36.622894\n",
              "2689    36.843521\n",
              "2690    37.151505\n",
              "2691    37.977028\n",
              "2692    39.287937\n",
              "2693    40.622902\n",
              "2694    41.457047\n",
              "2695    41.496418\n",
              "2696    40.898792\n",
              "2697    40.051022\n",
              "2698    39.069256\n",
              "2699    38.291531\n",
              "2700    37.992447\n",
              "2701    38.102257\n",
              "2702    38.587666\n",
              "2703    39.005619\n",
              "2704    39.244778\n",
              "Name: pred, dtype: float64"
            ]
          },
          "metadata": {
            "tags": []
          },
          "execution_count": 34
        }
      ]
    },
    {
      "cell_type": "code",
      "metadata": {
        "id": "E_Gk8w_tG93T"
      },
      "source": [
        ""
      ],
      "execution_count": null,
      "outputs": []
    }
  ]
}